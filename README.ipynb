{
 "cells": [
  {
   "cell_type": "markdown",
   "metadata": {},
   "source": [
    "# BlaBlaCar Readme"
   ]
  },
  {
   "cell_type": "markdown",
   "metadata": {},
   "source": [
    "To run the analysis files, a number of packages need to be installed. I recommend that you set up a virtual environment for this using [virtualenv](https://virtualenv.pypa.io/en/latest/), or a dedicated conda [environment](https://conda.io/projects/conda/en/latest/user-guide/tasks/manage-environments.html#activating-an-environment). Setup instructions follow below."
   ]
  },
  {
   "cell_type": "markdown",
   "metadata": {},
   "source": [
    "## Set path"
   ]
  },
  {
   "cell_type": "markdown",
   "metadata": {},
   "source": [
    "The present notebooks load the project path (the folder that contains the Notebooks folder) from an environment variable.\n",
    "\n",
    "To set environment variable on Windows, write in prompt (change path accordingly):\n",
    "```\n",
    "SETX BLABLACAR_PATH \"C:\\Users\\David\\Dropbox\\_Pre-Doc\\Active_Projects\\blablacar\"\n",
    "```\n",
    "\n",
    "To set it on Linux or Mac, use:\n",
    "```\n",
    "{ echo -n 'export BLABLACAR_PATH=/data/Dropbox/_Pre-Doc/Active_Projects/blablacar'; cat ~/.basrc; } > ~/.bashrc\n",
    "```\n",
    "\n",
    "You may have to log out and back in (terminate any process environments for changes in the parent one to update, see typical [error](https://stackoverflow.com/questions/60354339/python-environment-variables-not-updating)) for the change to take effect."
   ]
  },
  {
   "cell_type": "code",
   "execution_count": 2,
   "metadata": {},
   "outputs": [
    {
     "name": "stdout",
     "output_type": "stream",
     "text": [
      "Current BLABLACAR_PATH: E:\\blablacar\n"
     ]
    }
   ],
   "source": [
    "import os\n",
    "from pathlib import Path\n",
    "\n",
    "assert \"BLABLACAR_PATH\" in os.environ, \"BLABLACAR_PATH environment variable not set\"\n",
    "print(f\"Current BLABLACAR_PATH: {os.environ['BLABLACAR_PATH']}\")\n",
    "\n",
    "script_dir = Path(os.environ[\"BLABLACAR_PATH\"]) / 'git_scripts'\n",
    "os.chdir(script_dir)\n",
    "assert Path(\"README.ipynb\").exists(), f\"README.ipynb not in {script_dir}\""
   ]
  },
  {
   "cell_type": "markdown",
   "metadata": {},
   "source": [
    "## Virtualenv setup "
   ]
  },
  {
   "cell_type": "markdown",
   "metadata": {},
   "source": [
    "A **virtual environment** is a Python tool for dependency management and project isolation. It allows Python site packages (third party libraries) to be installed locally in an isolated directory for a particular project, as opposed to being installed globally (i.e. as part of a system-wide Python). Other advantages include:\n",
    "\n",
    "- **Resolve dependency issues** by allowing you to use different versions of a package for different projects. For example, you could use Package A v2.7 for Project X and Package A v1.3 for Project Y.\n",
    "- Make your project **self-contained and reproducible** by capturing all package dependencies in a requirements file.\n",
    "- Install packages on a host on which you do not have admin privileges.\n",
    "- Keep your global <code>site-packages/</code> directory tidy by removing the need to install packages system-wide which you might only need for one project."
   ]
  },
  {
   "cell_type": "markdown",
   "metadata": {},
   "source": [
    "There are four basic steps to install a virtual environment on windows:\n",
    "\n",
    "- Install Python\n",
    "- Install Pip\n",
    "- Install VirtualEnv\n",
    "- Install VirtualEnvWrapper-win"
   ]
  },
  {
   "cell_type": "markdown",
   "metadata": {},
   "source": [
    "#### Python"
   ]
  },
  {
   "cell_type": "markdown",
   "metadata": {},
   "source": [
    "Make sure you are using the right interpreter using the following code."
   ]
  },
  {
   "cell_type": "code",
   "execution_count": 3,
   "metadata": {},
   "outputs": [
    {
     "name": "stdout",
     "output_type": "stream",
     "text": [
      "e:\\python38\\python.exe\n"
     ]
    }
   ],
   "source": [
    "import sys\n",
    "print(sys.executable)"
   ]
  },
  {
   "cell_type": "markdown",
   "metadata": {},
   "source": [
    "At least python 3.7 is required."
   ]
  },
  {
   "cell_type": "code",
   "execution_count": 4,
   "metadata": {},
   "outputs": [
    {
     "name": "stdout",
     "output_type": "stream",
     "text": [
      "Python version: 3.8.8 (tags/v3.8.8:024d805, Feb 19 2021, 13:18:16) [MSC v.1928 64 bit (AMD64)]\n"
     ]
    }
   ],
   "source": [
    "print(f\"Python version: {sys.version}\")\n",
    "\n",
    "assert sys.version_info.major == 3, \"Python 3 is required\"\n",
    "assert sys.version_info.minor >= 7, \"At least Python 3.7 is required\""
   ]
  },
  {
   "cell_type": "markdown",
   "metadata": {},
   "source": [
    "#### Pip\n",
    "\n",
    "Modern versions of python and venv both include pip. See [here](https://pip.pypa.io/en/stable/installing/)."
   ]
  },
  {
   "cell_type": "markdown",
   "metadata": {},
   "source": [
    "#### VirtualEnv\n",
    "\n",
    "First install the library using pip."
   ]
  },
  {
   "cell_type": "code",
   "execution_count": 7,
   "metadata": {},
   "outputs": [
    {
     "name": "stdout",
     "output_type": "stream",
     "text": [
      "Requirement already satisfied: virtualenv in c:\\users\\david\\appdata\\roaming\\python\\python38\\site-packages (20.4.2)\n",
      "Requirement already satisfied: distlib<1,>=0.3.1 in c:\\users\\david\\appdata\\roaming\\python\\python38\\site-packages (from virtualenv) (0.3.1)\n",
      "Requirement already satisfied: filelock<4,>=3.0.0 in c:\\users\\david\\anaconda3\\lib\\site-packages (from virtualenv) (3.0.12)\n",
      "Requirement already satisfied: appdirs<2,>=1.4.3 in c:\\users\\david\\anaconda3\\lib\\site-packages (from virtualenv) (1.4.4)\n",
      "Requirement already satisfied: six<2,>=1.9.0 in c:\\users\\david\\appdata\\roaming\\python\\python38\\site-packages (from virtualenv) (1.16.0)\n"
     ]
    }
   ],
   "source": [
    "!pip install virtualenv"
   ]
  },
  {
   "cell_type": "markdown",
   "metadata": {},
   "source": [
    "<br>"
   ]
  },
  {
   "cell_type": "markdown",
   "metadata": {},
   "source": [
    "\n",
    "\n",
    "The next step is to build the virtual environment (**code-cell disabled**, only enable if this is built for the first time)."
   ]
  },
  {
   "cell_type": "code",
   "execution_count": 5,
   "metadata": {},
   "outputs": [
    {
     "name": "stdout",
     "output_type": "stream",
     "text": [
      "created virtual environment CPython3.8.8.final.0-64 in 38319ms\n",
      "  creator CPython3Windows(dest=E:\\blablacar\\git_scripts\\blablacar_env, clear=False, no_vcs_ignore=False, global=False)\n",
      "  seeder FromAppData(download=False, pip=bundle, setuptools=bundle, wheel=bundle, via=copy, app_data_dir=C:\\Users\\u82929\\AppData\\Local\\pypa\\virtualenv)\n",
      "    added seed packages: pip==21.1.1, setuptools==56.0.0, wheel==0.36.2\n",
      "  activators BashActivator,BatchActivator,FishActivator,PowerShellActivator,PythonActivator,XonshActivator\n"
     ]
    }
   ],
   "source": [
    "!cd %BLABLACAR_PATH%\\git_scripts\n",
    "!virtualenv blablacar_env"
   ]
  },
  {
   "cell_type": "markdown",
   "metadata": {},
   "source": [
    "<br>\n",
    "Next, the virtual environment needs activating."
   ]
  },
  {
   "cell_type": "code",
   "execution_count": 6,
   "metadata": {},
   "outputs": [],
   "source": [
    "!blablacar_env\\Scripts\\activate"
   ]
  },
  {
   "cell_type": "markdown",
   "metadata": {},
   "source": [
    "#### VirtualEnvWrapper"
   ]
  },
  {
   "cell_type": "markdown",
   "metadata": {},
   "source": [
    "Simply use pip to install the VirtualEnv wrapper for Windows."
   ]
  },
  {
   "cell_type": "code",
   "execution_count": 7,
   "metadata": {},
   "outputs": [
    {
     "name": "stdout",
     "output_type": "stream",
     "text": [
      "Requirement already satisfied: virtualenvwrapper-win in e:\\python38\\lib\\site-packages (1.2.6)\n",
      "Requirement already satisfied: virtualenv in e:\\python38\\lib\\site-packages (from virtualenvwrapper-win) (20.4.6)\n",
      "Requirement already satisfied: distlib<1,>=0.3.1 in e:\\python38\\lib\\site-packages (from virtualenv->virtualenvwrapper-win) (0.3.1)\n",
      "Requirement already satisfied: six<2,>=1.9.0 in e:\\python38 (from virtualenv->virtualenvwrapper-win) (1.16.0)\n",
      "Requirement already satisfied: appdirs<2,>=1.4.3 in e:\\python38 (from virtualenv->virtualenvwrapper-win) (1.4.4)\n",
      "Requirement already satisfied: filelock<4,>=3.0.0 in e:\\python38\\lib\\site-packages (from virtualenv->virtualenvwrapper-win) (3.0.12)\n"
     ]
    }
   ],
   "source": [
    "!pip install virtualenvwrapper-win"
   ]
  },
  {
   "cell_type": "markdown",
   "metadata": {},
   "source": [
    "# Day-to-day use"
   ]
  },
  {
   "cell_type": "markdown",
   "metadata": {},
   "source": [
    "This script sets up the first instance of the environment and baseline libraries. Once it's been set in your local machine, in future instances you will simply:\n",
    "- open an instance of your cmd/shell\n",
    "- set your working directory to %BLABLACAR_PATH%\\Notebooks\n",
    "- activate your virtual environment, then run your preferred IDE. "
   ]
  },
  {
   "cell_type": "markdown",
   "metadata": {},
   "source": [
    "<code>\n",
    "    cd %BLABLACAR_PATH%\\Notebooks\n",
    "    blablacar_env\\Scripts\\activate\n",
    "    jupyter lab\n",
    "</code>"
   ]
  },
  {
   "cell_type": "markdown",
   "metadata": {},
   "source": [
    "In order to install the common libraries (next step), please **do open this script using the three lines of code above**. Otherwise they may install in the non-virtual local environment."
   ]
  },
  {
   "cell_type": "markdown",
   "metadata": {},
   "source": [
    "## Install requirements\n",
    "We save requirements using `python -m pip freeze -r requirements.txt`, keeping only those imported in our analysis. Install them using the following command. "
   ]
  },
  {
   "cell_type": "markdown",
   "metadata": {},
   "source": [
    "**Note:** Depending on the set-up, this will install in your local machine rather than on the virtual environment. Make sure you have opened a new local instance of prompt/cmd/shell and run the three lines above."
   ]
  },
  {
   "cell_type": "code",
   "execution_count": 8,
   "metadata": {},
   "outputs": [
    {
     "name": "stdin",
     "output_type": "stream",
     "text": [
      "Do you want to install the packages from requirements.txt? [Y/N] Y\n"
     ]
    },
    {
     "name": "stdout",
     "output_type": "stream",
     "text": [
      "Requirement already satisfied: pandas==1.2.3 in e:\\python38 (from -r requirements_bla.txt (line 1)) (1.2.3)\n",
      "Requirement already satisfied: numpy==1.20.1 in e:\\python38 (from -r requirements_bla.txt (line 2)) (1.20.1)\n",
      "Requirement already satisfied: matplotlib==3.3.4 in e:\\python38 (from -r requirements_bla.txt (line 3)) (3.3.4)\n",
      "Requirement already satisfied: seaborn==0.11.1 in e:\\python38 (from -r requirements_bla.txt (line 4)) (0.11.1)\n",
      "Requirement already satisfied: tqdm==4.58.0 in e:\\python38 (from -r requirements_bla.txt (line 5)) (4.58.0)\n",
      "Requirement already satisfied: ipynb==0.5.1 in e:\\python38 (from -r requirements_bla.txt (line 6)) (0.5.1)\n",
      "Requirement already satisfied: requests==2.25.1 in e:\\python38 (from -r requirements_bla.txt (line 7)) (2.25.1)\n",
      "Requirement already satisfied: user-agents==2.2.0 in e:\\python38 (from -r requirements_bla.txt (line 8)) (2.2.0)\n",
      "Requirement already satisfied: spyder==5.0.3 in e:\\python38 (from -r requirements_bla.txt (line 9)) (5.0.3)\n",
      "Requirement already satisfied: pytz>=2017.3 in e:\\python38 (from pandas==1.2.3->-r requirements_bla.txt (line 1)) (2021.1)\n",
      "Requirement already satisfied: python-dateutil>=2.7.3 in e:\\python38 (from pandas==1.2.3->-r requirements_bla.txt (line 1)) (2.8.1)\n",
      "Requirement already satisfied: pyparsing!=2.0.4,!=2.1.2,!=2.1.6,>=2.0.3 in e:\\python38 (from matplotlib==3.3.4->-r requirements_bla.txt (line 3)) (2.4.7)\n",
      "Requirement already satisfied: cycler>=0.10 in e:\\python38 (from matplotlib==3.3.4->-r requirements_bla.txt (line 3)) (0.10.0)\n",
      "Requirement already satisfied: pillow>=6.2.0 in e:\\python38 (from matplotlib==3.3.4->-r requirements_bla.txt (line 3)) (8.2.0)\n",
      "Requirement already satisfied: kiwisolver>=1.0.1 in e:\\python38 (from matplotlib==3.3.4->-r requirements_bla.txt (line 3)) (1.3.1)\n",
      "Requirement already satisfied: scipy>=1.0 in e:\\python38 (from seaborn==0.11.1->-r requirements_bla.txt (line 4)) (1.6.3)\n",
      "Requirement already satisfied: idna<3,>=2.5 in e:\\python38 (from requests==2.25.1->-r requirements_bla.txt (line 7)) (2.10)\n",
      "Requirement already satisfied: certifi>=2017.4.17 in e:\\python38 (from requests==2.25.1->-r requirements_bla.txt (line 7)) (2020.12.5)\n",
      "Requirement already satisfied: urllib3<1.27,>=1.21.1 in e:\\python38 (from requests==2.25.1->-r requirements_bla.txt (line 7)) (1.26.4)\n",
      "Requirement already satisfied: chardet<5,>=3.0.2 in e:\\python38 (from requests==2.25.1->-r requirements_bla.txt (line 7)) (4.0.0)\n",
      "Requirement already satisfied: ua-parser>=0.10.0 in e:\\python38 (from user-agents==2.2.0->-r requirements_bla.txt (line 8)) (0.10.0)\n",
      "Requirement already satisfied: qstylizer>=0.1.10 in e:\\python38 (from spyder==5.0.3->-r requirements_bla.txt (line 9)) (0.2.0)\n",
      "Requirement already satisfied: pyls-spyder<0.4.0,>=0.3.2 in e:\\python38 (from spyder==5.0.3->-r requirements_bla.txt (line 9)) (0.3.2)\n",
      "Requirement already satisfied: paramiko>=2.4.0; platform_system == \"Windows\" in e:\\python38 (from spyder==5.0.3->-r requirements_bla.txt (line 9)) (2.7.2)\n",
      "Requirement already satisfied: atomicwrites>=1.2.0 in e:\\python38 (from spyder==5.0.3->-r requirements_bla.txt (line 9)) (1.4.0)\n",
      "Requirement already satisfied: pygments>=2.0 in e:\\python38 (from spyder==5.0.3->-r requirements_bla.txt (line 9)) (2.9.0)\n",
      "Requirement already satisfied: setuptools>=39.0.0 in e:\\python38 (from spyder==5.0.3->-r requirements_bla.txt (line 9)) (56.2.0)\n",
      "Requirement already satisfied: qtpy>=1.5.0 in e:\\python38 (from spyder==5.0.3->-r requirements_bla.txt (line 9)) (1.9.0)\n",
      "Requirement already satisfied: parso==0.7.0 in e:\\python38 (from spyder==5.0.3->-r requirements_bla.txt (line 9)) (0.7.0)\n",
      "Requirement already satisfied: pyzmq>=17 in e:\\python38 (from spyder==5.0.3->-r requirements_bla.txt (line 9)) (22.0.3)\n",
      "Requirement already satisfied: sphinx>=0.6.6 in e:\\python38 (from spyder==5.0.3->-r requirements_bla.txt (line 9)) (4.0.1)\n",
      "Requirement already satisfied: qtconsole>=5.1.0 in e:\\python38 (from spyder==5.0.3->-r requirements_bla.txt (line 9)) (5.1.0)\n",
      "Requirement already satisfied: qtawesome>=1.0.2 in e:\\python38 (from spyder==5.0.3->-r requirements_bla.txt (line 9)) (1.0.2)\n",
      "Requirement already satisfied: intervaltree>=3.0.2 in e:\\python38 (from spyder==5.0.3->-r requirements_bla.txt (line 9)) (3.1.0)\n",
      "Requirement already satisfied: psutil>=5.3 in e:\\python38 (from spyder==5.0.3->-r requirements_bla.txt (line 9)) (5.8.0)\n",
      "Requirement already satisfied: numpydoc>=0.6.0 in e:\\python38 (from spyder==5.0.3->-r requirements_bla.txt (line 9)) (1.1.0)\n",
      "Requirement already satisfied: pylint>=1.0 in e:\\python38 (from spyder==5.0.3->-r requirements_bla.txt (line 9)) (2.8.2)\n",
      "Requirement already satisfied: diff-match-patch>=20181111 in e:\\python38 (from spyder==5.0.3->-r requirements_bla.txt (line 9)) (20200713)\n",
      "Requirement already satisfied: jsonschema>=3.2.0 in e:\\python38 (from spyder==5.0.3->-r requirements_bla.txt (line 9)) (3.2.0)\n",
      "Requirement already satisfied: nbconvert>=4.0 in e:\\python38 (from spyder==5.0.3->-r requirements_bla.txt (line 9)) (6.0.7)\n",
      "Requirement already satisfied: pexpect>=4.4.0 in e:\\python38 (from spyder==5.0.3->-r requirements_bla.txt (line 9)) (4.8.0)\n",
      "Requirement already satisfied: pickleshare>=0.4 in e:\\python38 (from spyder==5.0.3->-r requirements_bla.txt (line 9)) (0.7.5)\n",
      "Requirement already satisfied: cloudpickle>=0.5.0 in e:\\python38 (from spyder==5.0.3->-r requirements_bla.txt (line 9)) (1.6.0)\n",
      "Requirement already satisfied: pyqt5<5.13 in e:\\python38 (from spyder==5.0.3->-r requirements_bla.txt (line 9)) (5.12.3)\n",
      "Requirement already satisfied: watchdog<2.0.0,>=0.10.3 in e:\\python38 (from spyder==5.0.3->-r requirements_bla.txt (line 9)) (1.0.2)\n",
      "Requirement already satisfied: keyring>=17.0.0 in e:\\python38 (from spyder==5.0.3->-r requirements_bla.txt (line 9)) (23.0.1)\n",
      "Requirement already satisfied: ipython>=7.6.0 in e:\\python38 (from spyder==5.0.3->-r requirements_bla.txt (line 9)) (7.23.1)\n",
      "Requirement already satisfied: rtree>=0.9.7 in e:\\python38 (from spyder==5.0.3->-r requirements_bla.txt (line 9)) (0.9.7)\n",
      "Requirement already satisfied: pyls-black>=0.4.6 in e:\\python38 (from spyder==5.0.3->-r requirements_bla.txt (line 9)) (0.4.6)\n",
      "Requirement already satisfied: cookiecutter>=1.6.0 in e:\\python38 (from spyder==5.0.3->-r requirements_bla.txt (line 9)) (1.7.3)\n",
      "Requirement already satisfied: three-merge>=0.1.1 in e:\\python38 (from spyder==5.0.3->-r requirements_bla.txt (line 9)) (0.1.1)\n",
      "Requirement already satisfied: python-language-server[all]<1.0.0,>=0.36.2 in e:\\python38 (from spyder==5.0.3->-r requirements_bla.txt (line 9)) (0.36.2)\n",
      "Requirement already satisfied: pyqtwebengine<5.13 in e:\\python38 (from spyder==5.0.3->-r requirements_bla.txt (line 9)) (5.12.1)\n",
      "Requirement already satisfied: textdistance>=4.2.0 in e:\\python38 (from spyder==5.0.3->-r requirements_bla.txt (line 9)) (4.2.1)\n",
      "Requirement already satisfied: jedi==0.17.2 in e:\\python38 (from spyder==5.0.3->-r requirements_bla.txt (line 9)) (0.17.2)\n",
      "Requirement already satisfied: spyder-kernels<2.1.0,>=2.0.3 in e:\\python38 (from spyder==5.0.3->-r requirements_bla.txt (line 9)) (2.0.3)\n",
      "Requirement already satisfied: qdarkstyle==3.0.2 in e:\\python38 (from spyder==5.0.3->-r requirements_bla.txt (line 9)) (3.0.2)\n",
      "Requirement already satisfied: six>=1.5 in e:\\python38 (from python-dateutil>=2.7.3->pandas==1.2.3->-r requirements_bla.txt (line 1)) (1.16.0)\n",
      "Requirement already satisfied: inflection<1,>0.3.0 in e:\\python38 (from qstylizer>=0.1.10->spyder==5.0.3->-r requirements_bla.txt (line 9)) (0.5.1)\n",
      "Requirement already satisfied: tinycss2<2,>=0.5 in e:\\python38 (from qstylizer>=0.1.10->spyder==5.0.3->-r requirements_bla.txt (line 9)) (1.1.0)\n",
      "Requirement already satisfied: cryptography>=2.5 in e:\\python38 (from paramiko>=2.4.0; platform_system == \"Windows\"->spyder==5.0.3->-r requirements_bla.txt (line 9)) (3.4.7)\n",
      "Requirement already satisfied: pynacl>=1.0.1 in e:\\python38 (from paramiko>=2.4.0; platform_system == \"Windows\"->spyder==5.0.3->-r requirements_bla.txt (line 9)) (1.4.0)\n",
      "Requirement already satisfied: bcrypt>=3.1.3 in e:\\python38 (from paramiko>=2.4.0; platform_system == \"Windows\"->spyder==5.0.3->-r requirements_bla.txt (line 9)) (3.2.0)\n",
      "Requirement already satisfied: MarkupSafe<2.0 in e:\\python38 (from sphinx>=0.6.6->spyder==5.0.3->-r requirements_bla.txt (line 9)) (1.1.1)\n",
      "Requirement already satisfied: sphinxcontrib-applehelp in e:\\python38 (from sphinx>=0.6.6->spyder==5.0.3->-r requirements_bla.txt (line 9)) (1.0.2)\n",
      "Collecting Jinja2<3.0,>=2.3\n",
      "  Using cached Jinja2-2.11.3-py2.py3-none-any.whl (125 kB)\n",
      "Requirement already satisfied: babel>=1.3 in e:\\python38 (from sphinx>=0.6.6->spyder==5.0.3->-r requirements_bla.txt (line 9)) (2.9.1)\n",
      "Requirement already satisfied: sphinxcontrib-htmlhelp in e:\\python38 (from sphinx>=0.6.6->spyder==5.0.3->-r requirements_bla.txt (line 9)) (1.0.3)\n",
      "Requirement already satisfied: alabaster<0.8,>=0.7 in e:\\python38 (from sphinx>=0.6.6->spyder==5.0.3->-r requirements_bla.txt (line 9)) (0.7.12)\n",
      "Requirement already satisfied: sphinxcontrib-serializinghtml in e:\\python38 (from sphinx>=0.6.6->spyder==5.0.3->-r requirements_bla.txt (line 9)) (1.1.4)\n",
      "Requirement already satisfied: docutils<0.18,>=0.14 in e:\\python38 (from sphinx>=0.6.6->spyder==5.0.3->-r requirements_bla.txt (line 9)) (0.17.1)\n",
      "Requirement already satisfied: imagesize in e:\\python38 (from sphinx>=0.6.6->spyder==5.0.3->-r requirements_bla.txt (line 9)) (1.2.0)\n",
      "Requirement already satisfied: packaging in e:\\python38 (from sphinx>=0.6.6->spyder==5.0.3->-r requirements_bla.txt (line 9)) (20.9)\n",
      "Requirement already satisfied: colorama>=0.3.5; sys_platform == \"win32\" in e:\\python38 (from sphinx>=0.6.6->spyder==5.0.3->-r requirements_bla.txt (line 9)) (0.4.4)\n",
      "Requirement already satisfied: sphinxcontrib-jsmath in e:\\python38 (from sphinx>=0.6.6->spyder==5.0.3->-r requirements_bla.txt (line 9)) (1.0.1)\n",
      "Requirement already satisfied: snowballstemmer>=1.1 in e:\\python38 (from sphinx>=0.6.6->spyder==5.0.3->-r requirements_bla.txt (line 9)) (2.1.0)\n",
      "Requirement already satisfied: sphinxcontrib-qthelp in e:\\python38 (from sphinx>=0.6.6->spyder==5.0.3->-r requirements_bla.txt (line 9)) (1.0.3)\n",
      "Requirement already satisfied: sphinxcontrib-devhelp in e:\\python38 (from sphinx>=0.6.6->spyder==5.0.3->-r requirements_bla.txt (line 9)) (1.0.2)\n",
      "Requirement already satisfied: ipython-genutils in e:\\python38 (from qtconsole>=5.1.0->spyder==5.0.3->-r requirements_bla.txt (line 9)) (0.2.0)\n",
      "Requirement already satisfied: ipykernel>=4.1 in e:\\python38 (from qtconsole>=5.1.0->spyder==5.0.3->-r requirements_bla.txt (line 9)) (5.5.5)\n",
      "Requirement already satisfied: jupyter-client>=4.1 in e:\\python38 (from qtconsole>=5.1.0->spyder==5.0.3->-r requirements_bla.txt (line 9)) (6.1.12)\n",
      "Requirement already satisfied: traitlets in e:\\python38 (from qtconsole>=5.1.0->spyder==5.0.3->-r requirements_bla.txt (line 9)) (5.0.5)\n",
      "Requirement already satisfied: jupyter-core in e:\\python38 (from qtconsole>=5.1.0->spyder==5.0.3->-r requirements_bla.txt (line 9)) (4.7.1)\n",
      "Requirement already satisfied: sortedcontainers<3.0,>=2.0 in e:\\python38 (from intervaltree>=3.0.2->spyder==5.0.3->-r requirements_bla.txt (line 9)) (2.4.0)\n",
      "Requirement already satisfied: mccabe<0.7,>=0.6 in e:\\python38 (from pylint>=1.0->spyder==5.0.3->-r requirements_bla.txt (line 9)) (0.6.1)\n",
      "Requirement already satisfied: isort<6,>=4.2.5 in e:\\python38 (from pylint>=1.0->spyder==5.0.3->-r requirements_bla.txt (line 9)) (5.8.0)\n",
      "Requirement already satisfied: astroid<2.7,>=2.5.6 in e:\\python38 (from pylint>=1.0->spyder==5.0.3->-r requirements_bla.txt (line 9)) (2.5.6)\n",
      "Requirement already satisfied: toml>=0.7.1 in e:\\python38 (from pylint>=1.0->spyder==5.0.3->-r requirements_bla.txt (line 9)) (0.10.2)\n",
      "Requirement already satisfied: attrs>=17.4.0 in e:\\python38 (from jsonschema>=3.2.0->spyder==5.0.3->-r requirements_bla.txt (line 9)) (21.2.0)\n",
      "Requirement already satisfied: pyrsistent>=0.14.0 in e:\\python38 (from jsonschema>=3.2.0->spyder==5.0.3->-r requirements_bla.txt (line 9)) (0.17.3)\n",
      "Requirement already satisfied: bleach in e:\\python38 (from nbconvert>=4.0->spyder==5.0.3->-r requirements_bla.txt (line 9)) (3.3.0)\n",
      "Requirement already satisfied: nbformat>=4.4 in e:\\python38 (from nbconvert>=4.0->spyder==5.0.3->-r requirements_bla.txt (line 9)) (5.1.3)\n",
      "Requirement already satisfied: jupyterlab-pygments in e:\\python38 (from nbconvert>=4.0->spyder==5.0.3->-r requirements_bla.txt (line 9)) (0.1.2)\n",
      "Requirement already satisfied: testpath in e:\\python38 (from nbconvert>=4.0->spyder==5.0.3->-r requirements_bla.txt (line 9)) (0.5.0)\n",
      "Requirement already satisfied: entrypoints>=0.2.2 in e:\\python38 (from nbconvert>=4.0->spyder==5.0.3->-r requirements_bla.txt (line 9)) (0.3)\n",
      "Requirement already satisfied: defusedxml in e:\\python38 (from nbconvert>=4.0->spyder==5.0.3->-r requirements_bla.txt (line 9)) (0.7.1)\n",
      "Requirement already satisfied: nbclient<0.6.0,>=0.5.0 in e:\\python38 (from nbconvert>=4.0->spyder==5.0.3->-r requirements_bla.txt (line 9)) (0.5.3)\n",
      "Requirement already satisfied: pandocfilters>=1.4.1 in e:\\python38 (from nbconvert>=4.0->spyder==5.0.3->-r requirements_bla.txt (line 9)) (1.4.3)\n",
      "Requirement already satisfied: mistune<2,>=0.8.1 in e:\\python38 (from nbconvert>=4.0->spyder==5.0.3->-r requirements_bla.txt (line 9)) (0.8.4)\n",
      "Requirement already satisfied: ptyprocess>=0.5 in e:\\python38 (from pexpect>=4.4.0->spyder==5.0.3->-r requirements_bla.txt (line 9)) (0.7.0)\n",
      "Requirement already satisfied: PyQt5_sip<13,>=4.19.14 in e:\\python38 (from pyqt5<5.13->spyder==5.0.3->-r requirements_bla.txt (line 9)) (12.9.0)\n",
      "Requirement already satisfied: importlib-metadata>=3.6 in e:\\python38 (from keyring>=17.0.0->spyder==5.0.3->-r requirements_bla.txt (line 9)) (4.0.1)\n",
      "Requirement already satisfied: pywin32-ctypes!=0.1.0,!=0.1.1; sys_platform == \"win32\" in e:\\python38 (from keyring>=17.0.0->spyder==5.0.3->-r requirements_bla.txt (line 9)) (0.2.0)\n",
      "Requirement already satisfied: backcall in e:\\python38 (from ipython>=7.6.0->spyder==5.0.3->-r requirements_bla.txt (line 9)) (0.2.0)\n",
      "Requirement already satisfied: prompt-toolkit!=3.0.0,!=3.0.1,<3.1.0,>=2.0.0 in e:\\python38 (from ipython>=7.6.0->spyder==5.0.3->-r requirements_bla.txt (line 9)) (3.0.18)\n",
      "Requirement already satisfied: matplotlib-inline in e:\\python38 (from ipython>=7.6.0->spyder==5.0.3->-r requirements_bla.txt (line 9)) (0.1.2)\n",
      "Requirement already satisfied: decorator in e:\\python38 (from ipython>=7.6.0->spyder==5.0.3->-r requirements_bla.txt (line 9)) (5.0.9)\n",
      "Requirement already satisfied: black>=19.3b0 in e:\\python38 (from pyls-black>=0.4.6->spyder==5.0.3->-r requirements_bla.txt (line 9)) (21.5b1)\n",
      "Requirement already satisfied: click>=7.0 in e:\\python38 (from cookiecutter>=1.6.0->spyder==5.0.3->-r requirements_bla.txt (line 9)) (8.0.1)\n",
      "Requirement already satisfied: python-slugify>=4.0.0 in e:\\python38 (from cookiecutter>=1.6.0->spyder==5.0.3->-r requirements_bla.txt (line 9)) (5.0.2)\n",
      "Requirement already satisfied: binaryornot>=0.4.4 in e:\\python38 (from cookiecutter>=1.6.0->spyder==5.0.3->-r requirements_bla.txt (line 9)) (0.4.4)\n",
      "Requirement already satisfied: poyo>=0.5.0 in e:\\python38 (from cookiecutter>=1.6.0->spyder==5.0.3->-r requirements_bla.txt (line 9)) (0.5.0)\n",
      "Requirement already satisfied: jinja2-time>=0.2.0 in e:\\python38 (from cookiecutter>=1.6.0->spyder==5.0.3->-r requirements_bla.txt (line 9)) (0.2.0)\n",
      "Requirement already satisfied: pluggy in e:\\python38 (from python-language-server[all]<1.0.0,>=0.36.2->spyder==5.0.3->-r requirements_bla.txt (line 9)) (0.13.1)\n",
      "Requirement already satisfied: ujson>=3.0.0; python_version > \"3\" in e:\\python38 (from python-language-server[all]<1.0.0,>=0.36.2->spyder==5.0.3->-r requirements_bla.txt (line 9)) (4.0.2)\n",
      "Requirement already satisfied: python-jsonrpc-server>=0.4.0 in e:\\python38 (from python-language-server[all]<1.0.0,>=0.36.2->spyder==5.0.3->-r requirements_bla.txt (line 9)) (0.4.0)\n",
      "Requirement already satisfied: autopep8; extra == \"all\" in e:\\python38 (from python-language-server[all]<1.0.0,>=0.36.2->spyder==5.0.3->-r requirements_bla.txt (line 9)) (1.5.7)\n",
      "Requirement already satisfied: pydocstyle>=2.0.0; extra == \"all\" in e:\\python38 (from python-language-server[all]<1.0.0,>=0.36.2->spyder==5.0.3->-r requirements_bla.txt (line 9)) (6.1.1)\n",
      "Requirement already satisfied: pycodestyle<2.7.0,>=2.6.0; extra == \"all\" in e:\\python38 (from python-language-server[all]<1.0.0,>=0.36.2->spyder==5.0.3->-r requirements_bla.txt (line 9)) (2.6.0)\n",
      "Requirement already satisfied: flake8>=3.8.0; extra == \"all\" in e:\\python38 (from python-language-server[all]<1.0.0,>=0.36.2->spyder==5.0.3->-r requirements_bla.txt (line 9)) (3.9.2)\n",
      "Requirement already satisfied: pyflakes<2.3.0,>=2.2.0; extra == \"all\" in e:\\python38 (from python-language-server[all]<1.0.0,>=0.36.2->spyder==5.0.3->-r requirements_bla.txt (line 9)) (2.2.0)\n",
      "Requirement already satisfied: rope>=0.10.5; extra == \"all\" in e:\\python38 (from python-language-server[all]<1.0.0,>=0.36.2->spyder==5.0.3->-r requirements_bla.txt (line 9)) (0.19.0)\n",
      "Requirement already satisfied: yapf; extra == \"all\" in e:\\python38 (from python-language-server[all]<1.0.0,>=0.36.2->spyder==5.0.3->-r requirements_bla.txt (line 9)) (0.31.0)\n",
      "Requirement already satisfied: webencodings>=0.4 in e:\\python38 (from tinycss2<2,>=0.5->qstylizer>=0.1.10->spyder==5.0.3->-r requirements_bla.txt (line 9)) (0.5.1)\n",
      "Requirement already satisfied: cffi>=1.12 in e:\\python38 (from cryptography>=2.5->paramiko>=2.4.0; platform_system == \"Windows\"->spyder==5.0.3->-r requirements_bla.txt (line 9)) (1.14.5)\n",
      "Requirement already satisfied: tornado>=4.2 in e:\\python38 (from ipykernel>=4.1->qtconsole>=5.1.0->spyder==5.0.3->-r requirements_bla.txt (line 9)) (6.1)\n",
      "Requirement already satisfied: pywin32>=1.0; sys_platform == \"win32\" in e:\\python38 (from jupyter-core->qtconsole>=5.1.0->spyder==5.0.3->-r requirements_bla.txt (line 9)) (300)\n",
      "Requirement already satisfied: lazy-object-proxy>=1.4.0 in e:\\python38 (from astroid<2.7,>=2.5.6->pylint>=1.0->spyder==5.0.3->-r requirements_bla.txt (line 9)) (1.6.0)\n",
      "Requirement already satisfied: wrapt<1.13,>=1.11 in e:\\python38 (from astroid<2.7,>=2.5.6->pylint>=1.0->spyder==5.0.3->-r requirements_bla.txt (line 9)) (1.12.1)\n",
      "Requirement already satisfied: nest-asyncio in e:\\python38 (from nbclient<0.6.0,>=0.5.0->nbconvert>=4.0->spyder==5.0.3->-r requirements_bla.txt (line 9)) (1.5.1)\n",
      "Requirement already satisfied: async-generator in e:\\python38 (from nbclient<0.6.0,>=0.5.0->nbconvert>=4.0->spyder==5.0.3->-r requirements_bla.txt (line 9)) (1.10)\n",
      "Requirement already satisfied: zipp>=0.5 in e:\\python38 (from importlib-metadata>=3.6->keyring>=17.0.0->spyder==5.0.3->-r requirements_bla.txt (line 9)) (3.4.1)\n",
      "Requirement already satisfied: wcwidth in e:\\python38 (from prompt-toolkit!=3.0.0,!=3.0.1,<3.1.0,>=2.0.0->ipython>=7.6.0->spyder==5.0.3->-r requirements_bla.txt (line 9)) (0.2.5)\n",
      "Requirement already satisfied: pathspec<1,>=0.8.1 in e:\\python38 (from black>=19.3b0->pyls-black>=0.4.6->spyder==5.0.3->-r requirements_bla.txt (line 9)) (0.8.1)\n",
      "Requirement already satisfied: appdirs in e:\\python38 (from black>=19.3b0->pyls-black>=0.4.6->spyder==5.0.3->-r requirements_bla.txt (line 9)) (1.4.4)\n",
      "Requirement already satisfied: mypy-extensions>=0.4.3 in e:\\python38 (from black>=19.3b0->pyls-black>=0.4.6->spyder==5.0.3->-r requirements_bla.txt (line 9)) (0.4.3)\n",
      "Requirement already satisfied: regex>=2020.1.8 in e:\\python38 (from black>=19.3b0->pyls-black>=0.4.6->spyder==5.0.3->-r requirements_bla.txt (line 9)) (2021.4.4)\n",
      "Requirement already satisfied: text-unidecode>=1.3 in e:\\python38 (from python-slugify>=4.0.0->cookiecutter>=1.6.0->spyder==5.0.3->-r requirements_bla.txt (line 9)) (1.3)\n",
      "Requirement already satisfied: arrow in e:\\python38 (from jinja2-time>=0.2.0->cookiecutter>=1.6.0->spyder==5.0.3->-r requirements_bla.txt (line 9)) (1.1.0)\n",
      "Requirement already satisfied: pycparser in e:\\python38 (from cffi>=1.12->cryptography>=2.5->paramiko>=2.4.0; platform_system == \"Windows\"->spyder==5.0.3->-r requirements_bla.txt (line 9)) (2.20)\n",
      "Installing collected packages: Jinja2\n",
      "  Attempting uninstall: Jinja2\n",
      "    Found existing installation: Jinja2 3.0.1\n",
      "    Uninstalling Jinja2-3.0.1:\n",
      "      Successfully uninstalled Jinja2-3.0.1\n",
      "Successfully installed Jinja2-2.11.3\n"
     ]
    }
   ],
   "source": [
    "z = input(\"Do you want to install the packages from requirements.txt? [Y/N]\")\n",
    "\n",
    "if z == 'Y':\n",
    "    !blablacar_env\\Scripts\\activate\n",
    "    !pip install --disable-pip-version-check -r requirements_bla.txt"
   ]
  },
  {
   "cell_type": "raw",
   "metadata": {},
   "source": [
    "!pip freeze"
   ]
  },
  {
   "cell_type": "markdown",
   "metadata": {},
   "source": [
    "## Code styles\n",
    "We want to have PEP8 compliant notebooks. In jupyter lab v3, PEP8 linting is enabled by default."
   ]
  },
  {
   "cell_type": "code",
   "execution_count": 21,
   "metadata": {},
   "outputs": [
    {
     "name": "stdout",
     "output_type": "stream",
     "text": [
      "3.0.14\n"
     ]
    }
   ],
   "source": [
    "!jupyter lab --version"
   ]
  },
  {
   "cell_type": "markdown",
   "metadata": {},
   "source": [
    "Usage: `jblack notebook.ipynb`"
   ]
  }
 ],
 "metadata": {
  "kernelspec": {
   "display_name": "Python 3",
   "language": "python",
   "name": "python3"
  },
  "language_info": {
   "codemirror_mode": {
    "name": "ipython",
    "version": 3
   },
   "file_extension": ".py",
   "mimetype": "text/x-python",
   "name": "python",
   "nbconvert_exporter": "python",
   "pygments_lexer": "ipython3",
   "version": "3.8.8"
  }
 },
 "nbformat": 4,
 "nbformat_minor": 4
}
