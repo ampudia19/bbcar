{
 "cells": [
  {
   "cell_type": "markdown",
   "metadata": {},
   "source": [
    "# BlaBlaCar Readme"
   ]
  },
  {
   "cell_type": "markdown",
   "metadata": {},
   "source": [
    "To run the analysis files, a number of packages need to be installed. I recommend that you set up a virtual environment for this using [virtualenv](https://virtualenv.pypa.io/en/latest/), or a dedicated conda [environment](https://conda.io/projects/conda/en/latest/user-guide/tasks/manage-environments.html#activating-an-environment). Setup instructions follow below."
   ]
  },
  {
   "cell_type": "markdown",
   "metadata": {},
   "source": [
    "## Set path"
   ]
  },
  {
   "cell_type": "markdown",
   "metadata": {},
   "source": [
    "The present notebooks load the project path (the folder that contains the Notebooks folder) from an environment variable.\n",
    "\n",
    "To set environment variable on Windows, write in prompt (change path accordingly):\n",
    "```\n",
    "SETX BLABLACAR_PATH \"C:\\Users\\David\\Dropbox\\_Pre-Doc\\Active_Projects\\blablacar\"\n",
    "```\n",
    "\n",
    "To set it on Linux or Mac, use:\n",
    "```\n",
    "{ echo -n 'export BLABLACAR_PATH=/data/Dropbox/_Pre-Doc/Active_Projects/blablacar'; cat ~/.basrc; } > ~/.bashrc\n",
    "```\n",
    "\n",
    "You may have to log out and back in (terminate any process environments for changes in the parent one to update, see typical [error](https://stackoverflow.com/questions/60354339/python-environment-variables-not-updating)) for the change to take effect."
   ]
  },
  {
   "cell_type": "code",
   "execution_count": 14,
   "metadata": {},
   "outputs": [
    {
     "name": "stdout",
     "output_type": "stream",
     "text": [
      "Current BLABLACAR_PATH: C:/Users/David/Dropbox/_Pre-Doc/Active_Projects/blablacar\n"
     ]
    }
   ],
   "source": [
    "import os\n",
    "from pathlib import Path\n",
    "\n",
    "assert \"BLABLACAR_PATH\" in os.environ, \"BLABLACAR_PATH environment variable not set\"\n",
    "print(f\"Current BLABLACAR_PATH: {os.environ['BLABLACAR_PATH']}\")\n",
    "\n",
    "notebook_dir = Path(os.environ[\"BLABLACAR_PATH\"]) / 'Notebooks'\n",
    "os.chdir(notebook_dir)\n",
    "assert Path(\"README.ipynb\").exists(), f\"README.ipynb not in {notebook_dir}\""
   ]
  },
  {
   "cell_type": "markdown",
   "metadata": {},
   "source": [
    "## Virtualenv setup "
   ]
  },
  {
   "cell_type": "markdown",
   "metadata": {},
   "source": [
    "A **virtual environment** is a Python tool for dependency management and project isolation. It allows Python site packages (third party libraries) to be installed locally in an isolated directory for a particular project, as opposed to being installed globally (i.e. as part of a system-wide Python). Other advantages include:\n",
    "\n",
    "- **Resolve dependency issues** by allowing you to use different versions of a package for different projects. For example, you could use Package A v2.7 for Project X and Package A v1.3 for Project Y.\n",
    "- Make your project **self-contained and reproducible** by capturing all package dependencies in a requirements file.\n",
    "- Install packages on a host on which you do not have admin privileges.\n",
    "- Keep your global <code>site-packages/</code> directory tidy by removing the need to install packages system-wide which you might only need for one project."
   ]
  },
  {
   "cell_type": "markdown",
   "metadata": {},
   "source": [
    "There are four basic steps to install a virtual environment on windows:\n",
    "\n",
    "- Install Python\n",
    "- Install Pip\n",
    "- Install VirtualEnv\n",
    "- Install VirtualEnvWrapper-win"
   ]
  },
  {
   "cell_type": "markdown",
   "metadata": {},
   "source": [
    "#### Python"
   ]
  },
  {
   "cell_type": "markdown",
   "metadata": {},
   "source": [
    "Make sure you are using the right interpreter using the following code."
   ]
  },
  {
   "cell_type": "code",
   "execution_count": 15,
   "metadata": {},
   "outputs": [
    {
     "name": "stdout",
     "output_type": "stream",
     "text": [
      "C:\\Users\\David\\anaconda3\\python.exe\n"
     ]
    }
   ],
   "source": [
    "import sys\n",
    "print(sys.executable)"
   ]
  },
  {
   "cell_type": "markdown",
   "metadata": {},
   "source": [
    "At least python 3.7 is required."
   ]
  },
  {
   "cell_type": "code",
   "execution_count": 16,
   "metadata": {},
   "outputs": [
    {
     "name": "stdout",
     "output_type": "stream",
     "text": [
      "Python version: 3.8.8 (default, Apr 13 2021, 15:08:03) [MSC v.1916 64 bit (AMD64)]\n"
     ]
    }
   ],
   "source": [
    "print(f\"Python version: {sys.version}\")\n",
    "\n",
    "assert sys.version_info.major == 3, \"Python 3 is required\"\n",
    "assert sys.version_info.minor >= 7, \"At least Python 3.7 is required\""
   ]
  },
  {
   "cell_type": "markdown",
   "metadata": {},
   "source": [
    "#### Pip\n",
    "\n",
    "Modern versions of python and venv both include pip. See [here](https://pip.pypa.io/en/stable/installing/)."
   ]
  },
  {
   "cell_type": "markdown",
   "metadata": {},
   "source": [
    "#### VirtualEnv\n",
    "\n",
    "First install the library using pip."
   ]
  },
  {
   "cell_type": "code",
   "execution_count": 7,
   "metadata": {},
   "outputs": [
    {
     "name": "stdout",
     "output_type": "stream",
     "text": [
      "Requirement already satisfied: virtualenv in c:\\users\\david\\appdata\\roaming\\python\\python38\\site-packages (20.4.2)\n",
      "Requirement already satisfied: distlib<1,>=0.3.1 in c:\\users\\david\\appdata\\roaming\\python\\python38\\site-packages (from virtualenv) (0.3.1)\n",
      "Requirement already satisfied: filelock<4,>=3.0.0 in c:\\users\\david\\anaconda3\\lib\\site-packages (from virtualenv) (3.0.12)\n",
      "Requirement already satisfied: appdirs<2,>=1.4.3 in c:\\users\\david\\anaconda3\\lib\\site-packages (from virtualenv) (1.4.4)\n",
      "Requirement already satisfied: six<2,>=1.9.0 in c:\\users\\david\\appdata\\roaming\\python\\python38\\site-packages (from virtualenv) (1.16.0)\n"
     ]
    }
   ],
   "source": [
    "!pip install virtualenv"
   ]
  },
  {
   "cell_type": "markdown",
   "metadata": {},
   "source": [
    "<br>"
   ]
  },
  {
   "cell_type": "markdown",
   "metadata": {},
   "source": [
    "\n",
    "\n",
    "The next step is to build the virtual environment (**code-cell disabled**, only enable if this is built for the first time)."
   ]
  },
  {
   "cell_type": "raw",
   "metadata": {},
   "source": [
    "!cd %BLABLACAR_PATH%\\Notebooks\n",
    "!virtualenv blablacar_env"
   ]
  },
  {
   "cell_type": "markdown",
   "metadata": {},
   "source": [
    "<br>\n",
    "Next, the virtual environment needs activating."
   ]
  },
  {
   "cell_type": "code",
   "execution_count": 18,
   "metadata": {},
   "outputs": [],
   "source": [
    "!blablacar_env\\Scripts\\activate"
   ]
  },
  {
   "cell_type": "markdown",
   "metadata": {},
   "source": [
    "#### VirtualEnvWrapper"
   ]
  },
  {
   "cell_type": "markdown",
   "metadata": {},
   "source": [
    "Simply use pip to install the VirtualEnv wrapper for Windows."
   ]
  },
  {
   "cell_type": "code",
   "execution_count": 11,
   "metadata": {},
   "outputs": [
    {
     "name": "stdout",
     "output_type": "stream",
     "text": [
      "Requirement already satisfied: virtualenvwrapper-win in c:\\users\\david\\anaconda3\\lib\\site-packages (1.2.6)\n",
      "Requirement already satisfied: virtualenv in c:\\users\\david\\appdata\\roaming\\python\\python38\\site-packages (from virtualenvwrapper-win) (20.4.2)\n",
      "Requirement already satisfied: appdirs<2,>=1.4.3 in c:\\users\\david\\anaconda3\\lib\\site-packages (from virtualenv->virtualenvwrapper-win) (1.4.4)\n",
      "Requirement already satisfied: six<2,>=1.9.0 in c:\\users\\david\\appdata\\roaming\\python\\python38\\site-packages (from virtualenv->virtualenvwrapper-win) (1.16.0)\n",
      "Requirement already satisfied: distlib<1,>=0.3.1 in c:\\users\\david\\appdata\\roaming\\python\\python38\\site-packages (from virtualenv->virtualenvwrapper-win) (0.3.1)\n",
      "Requirement already satisfied: filelock<4,>=3.0.0 in c:\\users\\david\\anaconda3\\lib\\site-packages (from virtualenv->virtualenvwrapper-win) (3.0.12)\n"
     ]
    }
   ],
   "source": [
    "!pip install virtualenvwrapper-win"
   ]
  },
  {
   "cell_type": "markdown",
   "metadata": {},
   "source": [
    "# Day-to-day use"
   ]
  },
  {
   "cell_type": "markdown",
   "metadata": {},
   "source": [
    "This script sets up the first instance of the environment and baseline libraries. Once it's been set in your local machine, in future instances you will simply:\n",
    "- open an instance of your cmd/shell\n",
    "- set your working directory to %BLABLACAR_PATH%\\Notebooks\n",
    "- activate your virtual environment, then run your preferred IDE. "
   ]
  },
  {
   "cell_type": "markdown",
   "metadata": {},
   "source": [
    "<code>\n",
    "    cd %BLABLACAR_PATH%\\Notebooks\n",
    "    blablacar_env\\Scripts\\activate\n",
    "    jupyter lab\n",
    "</code>"
   ]
  },
  {
   "cell_type": "markdown",
   "metadata": {},
   "source": [
    "In order to install the common libraries (next step), please **do open this script using the three lines of code above**. Otherwise they may install in the non-virtual local environment."
   ]
  },
  {
   "cell_type": "markdown",
   "metadata": {},
   "source": [
    "## Install requirements\n",
    "We save requirements using `python -m pip freeze -r requirements.txt`, keeping only those imported in our analysis. Install them using the following command. "
   ]
  },
  {
   "cell_type": "markdown",
   "metadata": {},
   "source": [
    "**Note:** Depending on the set-up, this will install in your local machine rather than on the virtual environment. Make sure you have opened a new local instance of prompt/cmd/shell and run the three lines above."
   ]
  },
  {
   "cell_type": "raw",
   "metadata": {},
   "source": [
    "z = input(\"Do you want to install the packages from requirements.txt? [Y/N]\")\n",
    "\n",
    "if z == 'Y':\n",
    "    !pip install --disable-pip-version-check -r requirements_bla.txt"
   ]
  },
  {
   "cell_type": "raw",
   "metadata": {},
   "source": [
    "!pip freeze"
   ]
  },
  {
   "cell_type": "markdown",
   "metadata": {},
   "source": [
    "## Code styles\n",
    "We want to have PEP8 compliant notebooks. In jupyter lab v3, PEP8 linting is enabled by default."
   ]
  },
  {
   "cell_type": "code",
   "execution_count": 21,
   "metadata": {},
   "outputs": [
    {
     "name": "stdout",
     "output_type": "stream",
     "text": [
      "3.0.14\n"
     ]
    }
   ],
   "source": [
    "!jupyter lab --version"
   ]
  },
  {
   "cell_type": "markdown",
   "metadata": {},
   "source": [
    "Usage: `jblack notebook.ipynb`"
   ]
  }
 ],
 "metadata": {
  "kernelspec": {
   "display_name": "Python 3",
   "language": "python",
   "name": "python3"
  },
  "language_info": {
   "codemirror_mode": {
    "name": "ipython",
    "version": 3
   },
   "file_extension": ".py",
   "mimetype": "text/x-python",
   "name": "python",
   "nbconvert_exporter": "python",
   "pygments_lexer": "ipython3",
   "version": "3.8.8"
  }
 },
 "nbformat": 4,
 "nbformat_minor": 4
}
